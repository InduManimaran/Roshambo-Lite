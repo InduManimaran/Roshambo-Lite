{
 "cells": [
  {
   "cell_type": "code",
   "execution_count": 10,
   "metadata": {
    "collapsed": true
   },
   "outputs": [],
   "source": [
    "import random\n",
    "import os\n",
    "import skimage as sk\n",
    "import scipy\n",
    "from transformations import *\n",
    "import glob\n",
    "\n",
    "# dictionary of the transformations we defined earlier\n",
    "available_transformations = {\n",
    "    'noise': random_noise,\n",
    "    'horizontal_flip': horizontal_flip,\n",
    "    'blur':blur,\n",
    "    'vertical_flip': vertical_flip,\n",
    "    'intensity':random_intensity,\n",
    "    'rotate90':rotate_90,\n",
    "    'rotate180':rotate_180,\n",
    "    'rotate270':rotate_270,\n",
    "\n",
    "}"
   ]
  },
  {
   "cell_type": "code",
   "execution_count": null,
   "metadata": {
    "collapsed": true
   },
   "outputs": [],
   "source": [
    "directory = 'path to directory'\n",
    "\n",
    "subdirectories=[x[0] for x in os.walk(directory)]\n",
    "\n",
    "for i in range(1,len(subdirectories)+1):\n",
    "    images = [f for f in glob.glob(subdirectories[i]+'/*.jpg')]\n",
    "    num_generated_files=0\n",
    "    for x in images:\n",
    "        image_to_transform = sk.io.imread(x)\n",
    "        image_to_transform = sk.transform.resize(image_to_transform,(32,32))\n",
    "        img_path='%s/image_%s.jpg' % (subdirectories[i], num_generated_files)\n",
    "        io.imsave(img_path, image_to_transform)\n",
    "        num_generated_files += 1\n",
    "        for key,value in available_transformations.items():# random transformation to apply for a single image\n",
    "            transformed_image = value(image_to_transform)\n",
    "            img_path = '%s/image_%s %s.jpg' % (subdirectories[i], num_generated_files,key)\n",
    "            io.imsave(img_path, transformed_image)\n",
    "            num_generated_files += 1"
   ]
  },
  {
   "cell_type": "code",
   "execution_count": null,
   "metadata": {
    "collapsed": true
   },
   "outputs": [],
   "source": []
  }
 ],
 "metadata": {
  "kernelspec": {
   "display_name": "Python 3",
   "language": "python",
   "name": "python3"
  },
  "language_info": {
   "codemirror_mode": {
    "name": "ipython",
    "version": 3
   },
   "file_extension": ".py",
   "mimetype": "text/x-python",
   "name": "python",
   "nbconvert_exporter": "python",
   "pygments_lexer": "ipython3",
   "version": "3.6.1"
  }
 },
 "nbformat": 4,
 "nbformat_minor": 2
}
